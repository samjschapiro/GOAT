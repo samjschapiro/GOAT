{
 "cells": [
  {
   "cell_type": "code",
   "execution_count": 40,
   "metadata": {},
   "outputs": [
    {
     "name": "stdout",
     "output_type": "stream",
     "text": [
      "SAM with Gradient Regularization 0.5\n",
      "Number of samples 20\n",
      "Accuracy: 83.755 +- 2.3421706081954703\n",
      "Weight Shift: 0.39199999868869784 +- 0.03636076829094223\n",
      "Weight Norm: 7.0024999999999995 +- 0.3344575340835711\n",
      "\n",
      "SAM\n",
      "Number of samples 20\n",
      "Accuracy: 82.80749999999999 +- 3.843356366237035\n",
      "Weight Shift: 0.40099999904632566 +- 0.03567396264884541\n",
      "Weight Norm: 7.024500000000001 +- 0.5023468606660667\n"
     ]
    }
   ],
   "source": [
    "import pandas as pd\n",
    "\n",
    "df = pd.read_csv('logs/portraits_opt:sam_grad_reg:0.5_num_int_dom:4.txt')\n",
    "print('SAM with Gradient Regularization 0.5')\n",
    "print(f\"Number of samples {len(df)}\") \n",
    "print(f\"Accuracy: {df['self_train_accuracy'].mean()} +- {df['self_train_accuracy'].std()}\")\n",
    "print(f\"Weight Shift: {df['weight_shift'].mean()} +- {df['weight_shift'].std()}\")\n",
    "print(f\"Weight Norm: {df['weight_norm'].mean()} +- {df['weight_norm'].std()}\")\n",
    "df = pd.read_csv('logs/portraits_opt:sam_grad_reg:0_num_int_dom:4.txt')\n",
    "print('\\nSAM')\n",
    "print(f\"Number of samples {len(df)}\")\n",
    "print(f\"Accuracy: {df['self_train_accuracy'].mean()} +- {df['self_train_accuracy'].std()}\")\n",
    "print(f\"Weight Shift: {df['weight_shift'].mean()} +- {df['weight_shift'].std()}\")\n",
    "print(f\"Weight Norm: {df['weight_norm'].mean()} +- {df['weight_norm'].std()}\")"
   ]
  }
 ],
 "metadata": {
  "kernelspec": {
   "display_name": "base",
   "language": "python",
   "name": "python3"
  },
  "language_info": {
   "codemirror_mode": {
    "name": "ipython",
    "version": 3
   },
   "file_extension": ".py",
   "mimetype": "text/x-python",
   "name": "python",
   "nbconvert_exporter": "python",
   "pygments_lexer": "ipython3",
   "version": "3.9.7"
  }
 },
 "nbformat": 4,
 "nbformat_minor": 2
}
